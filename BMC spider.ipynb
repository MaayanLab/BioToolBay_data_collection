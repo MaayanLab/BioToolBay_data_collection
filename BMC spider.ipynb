{
 "cells": [
  {
   "cell_type": "code",
   "execution_count": null,
   "metadata": {
    "collapsed": true
   },
   "outputs": [],
   "source": [
    "import scrapy\n",
    "import re\n",
    "\n",
    "#IMPORTANT CHOOSE HOW MANY PAGES BACK YOU WANT TO GO WHOLE JOURNAL IS 334 pages (25 articles per page) as of June 2017\n",
    "\n",
    "class JournalSpider(scrapy.Spider):\n",
    "    name=\"bmc_spiderF\"\n",
    "    journal=\"BMC Bioinformatics\"\n",
    "    start_urls = [\n",
    "        'https://bmcbioinformatics.biomedcentral.com/articles?searchType=journalSearch&sort=PubDate&page=1',\n",
    "    ]\n",
    "\n",
    " \n",
    "\n",
    "\n",
    "    def start_requests(self):\n",
    "        for url in self.start_urls:\n",
    "            yield scrapy.Request(url, self.parse, meta={'splash' : {'endpoint' : 'render.html', 'args' : { 'wait' : 8.5 }}})\n",
    "\n",
    "    def parse(self, response):\n",
    "        for article in response.css('article'):\n",
    "            for link in article.css('.fulltexttitle::attr(\"href\")').extract():\n",
    "                next_article=\"https://bmcbioinformatics.biomedcentral.com\"+ link\n",
    "                yield scrapy.Request(next_article, self.parse_the_article,meta={'splash' : {'endpoint' : 'render.html', 'args' : { 'wait' : 8.5 }}})\n",
    "        next_page=response.css('a[class=\"Pager Pager--next\"]::attr(href)').extract_first()\n",
    "        if next_page is not None:\n",
    "            next_page=\"https://bmcbioinformatics.biomedcentral.com\"+next_page\n",
    "            yield scrapy.Request(next_page, callback=self.parse, meta={'splash' : {'endpoint' : 'render.html', 'args' : { 'wait' : 3.5 }}})\n",
    "\n",
    "\n",
    "\n",
    "    def parse_the_article(self, response):\n",
    "        article_abstract=response.css('.Abstract')\n",
    "        article_whole=response.css('.ExternalRef')\n",
    "        side_box=response.css('.SideBox')\n",
    "        all_links_list=[]\n",
    "        all_links=article_whole.css('a[href*=\"http\"]::attr(\"href\")').extract()\n",
    "        list_of_links=[]\n",
    "        for link in all_links:\n",
    "            if len(link) < 80:\n",
    "                if re.search('doi|pubmed|scholar|new-image|creativecommons', link):\n",
    "                    pass\n",
    "                else:\n",
    "                    all_links_list.append(link)\n",
    "        text_full=response.css('.FulltextWrapper ::text')\n",
    "\n",
    "        yield {\n",
    "            'link': response.url,#works\n",
    "            'doi' : response.css('.ArticleDOI ::text').extract()[1],#works\n",
    "            'abstract' : response.css('.Abstract p *::text').extract(),#works\n",
    "            'altmetric_score': side_box.css('.list-stacked__item p::text').re('Altmetric Attention Score:\\s+(\\w+)'),#works\n",
    "            'citations_link': side_box.css('.list-stacked__item a::attr(\"href\")').extract_first(),#works\n",
    "            'views':side_box.css('.list-stacked__item ::text').re('Article accesses:\\s+(\\w+)'),#works\n",
    "            'citations_amount':side_box.css('.list-stacked__item ::text').re('Citations:\\s+(\\w+)'),#works \n",
    "            'title': response.css('.ArticleTitle ::text').extract(),#works\n",
    "            'journal':  self.journal,#works\n",
    "            'authors': response.css('.AuthorName ::text').extract(),#works\n",
    "            'tag': response.css('.ArticleCategory::text').extract(),#works\n",
    "            'topics': response.css('.Keyword::text').extract(),#works\n",
    "            'link_to_tools': article_abstract.css('a[href*=\"http\"]::attr(\"href\")').extract(),#works\n",
    "            'all_links': article_whole.css('a[href*=\"http\"]::attr(\"href\")').extract(),\n",
    "            'references':response.css('.OccurrenceDOI a::attr(\"href\")').extract(),\n",
    "            'date':response.css('.HistoryOnlineDate ::text').extract()[1],\n",
    "        }"
   ]
  }
 ],
 "metadata": {
  "kernelspec": {
   "display_name": "Python 2",
   "language": "python",
   "name": "python2"
  },
  "language_info": {
   "codemirror_mode": {
    "name": "ipython",
    "version": 2
   },
   "file_extension": ".py",
   "mimetype": "text/x-python",
   "name": "python",
   "nbconvert_exporter": "python",
   "pygments_lexer": "ipython2",
   "version": "2.7.12"
  }
 },
 "nbformat": 4,
 "nbformat_minor": 2
}
