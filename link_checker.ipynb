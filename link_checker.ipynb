{
 "cells": [
  {
   "cell_type": "code",
   "execution_count": null,
   "metadata": {
    "collapsed": true
   },
   "outputs": [],
   "source": [
    "import pandas as pd\n",
    "import urllib2\n",
    "\n",
    "all_articles_tools = pd.read_table('ALL_DATA/BMC/TOOLS/bmc_tools_00_17.txt', keep_default_na=False)\n",
    "# Add new column to a dataframe for result of checking\n",
    "all_articles_tools[\"active\"]=\"NULL\"\n",
    "\n",
    "\n",
    "i=0\n",
    "for i in range(len(all_articles_tools)):\n",
    "    link=all_articles_tools[\"homepage\"][i]\n",
    "    try:\n",
    "        r = urllib2.urlopen(link)\n",
    "        if r.getcode() in (200, 401):\n",
    "            print(i)\n",
    "            print(\"works\")\n",
    "            all_articles_tools[\"active\"][i]=\"TRUE\"\n",
    "        else:\n",
    "            print(\"NOT\")\n",
    "    except:\n",
    "        pass\n",
    "    i=i+1\n",
    "\n",
    "\n",
    "\n",
    "all_articles_tools=all_articles_tools[all_articles_tools.active != \"NULL\"]\n",
    "all_articles_tools.to_csv(\"bmc_active_links_00_17.txt\",sep='\\t', encoding='utf-8')"
   ]
  }
 ],
 "metadata": {
  "kernelspec": {
   "display_name": "Python 2",
   "language": "python",
   "name": "python2"
  },
  "language_info": {
   "codemirror_mode": {
    "name": "ipython",
    "version": 2
   },
   "file_extension": ".py",
   "mimetype": "text/x-python",
   "name": "python",
   "nbconvert_exporter": "python",
   "pygments_lexer": "ipython2",
   "version": "2.7.12"
  }
 },
 "nbformat": 4,
 "nbformat_minor": 2
}
